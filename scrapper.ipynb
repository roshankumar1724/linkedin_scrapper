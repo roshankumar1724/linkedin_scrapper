{
 "cells": [
  {
   "cell_type": "markdown",
   "metadata": {},
   "source": [
    "## LINKEDIN POST REPORT FLAG TOOL"
   ]
  },
  {
   "cell_type": "code",
   "execution_count": null,
   "metadata": {},
   "outputs": [],
   "source": [
    "# Prevent pycache while developing \n",
    "import sys\n",
    "sys.dont_write_bytecode = True"
   ]
  },
  {
   "cell_type": "code",
   "execution_count": 2,
   "metadata": {},
   "outputs": [],
   "source": [
    "from config import LINKEDIN_USERNAME, LINKEDIN_PASSWORD, POST_LIMIT, OPENAI_GPT_API_KEY\n",
    "\n",
    "import time\n",
    "from openai import OpenAI\n",
    "import pickle\n",
    "import re\n",
    "from selenium import webdriver\n",
    "from selenium.webdriver.common.by import By\n",
    "from selenium.webdriver.common.keys import Keys\n",
    "from selenium.webdriver.chrome.service import Service\n",
    "from selenium.webdriver.chrome.options import Options\n",
    "from webdriver_manager.chrome import ChromeDriverManager\n",
    "from selenium.common.exceptions import NoSuchElementException\n",
    "from selenium.webdriver.support.wait import WebDriverWait\n",
    "from selenium.webdriver.support import expected_conditions as EC\n"
   ]
  },
  {
   "cell_type": "markdown",
   "metadata": {},
   "source": [
    "##### Configure OpenAI GPT"
   ]
  },
  {
   "cell_type": "code",
   "execution_count": 3,
   "metadata": {},
   "outputs": [],
   "source": [
    "# Configure OpenAI GPT\n",
    "client = OpenAI(api_key=OPENAI_GPT_API_KEY)"
   ]
  },
  {
   "cell_type": "markdown",
   "metadata": {},
   "source": [
    "##### Login to LinkedIn\n",
    "\n",
    "- Open linkedIn page\n",
    "- Signin using pre-configured username and password from `config` file\n",
    "- Wait for some if OTP is to be entered\n",
    "- save the `cookie` for future usage"
   ]
  },
  {
   "cell_type": "code",
   "execution_count": 4,
   "metadata": {},
   "outputs": [],
   "source": [
    "# Load / login and save cookies\n",
    "def login_linkedIn():\n",
    "    driver.get(\"https://www.linkedin.com/login\")\n",
    "\n",
    "    # check if cookie is saved\n",
    "    try:\n",
    "        with open(\"linkedin_cookie.pkl\", \"rb\") as file:\n",
    "            cookies=pickle.load(file)\n",
    "            for cookie in cookies:\n",
    "                driver.add_cookie(cookie)\n",
    "        \n",
    "        # Refresh to use loaded cookie\n",
    "        driver.refresh() \n",
    "    \n",
    "    except:\n",
    "        print(\"No cookie found, proceeding with manual login !\")\n",
    "        # Enter username and password and (or) OTP\n",
    "        username = driver.find_element(By.ID, \"username\")\n",
    "        password = driver.find_element(By.ID, \"password\")\n",
    "\n",
    "        username.send_keys(LINKEDIN_USERNAME)\n",
    "        time.sleep(2)\n",
    "        password.send_keys(LINKEDIN_PASSWORD)\n",
    "        time.sleep(2)\n",
    "        password.send_keys(Keys.RETURN)\n",
    "\n",
    "        # driver.implicitly_wait(30)\n",
    "\n",
    "        try:\n",
    "            WebDriverWait(driver=driver, timeout=30).until(\n",
    "                EC.title_contains(title=\"Feed | LinkedIn\")\n",
    "            )\n",
    "            \n",
    "            with open(\"linkedin_cookie.pkl\", \"wb\") as file:\n",
    "                print (\"After login ==> \\n\" + str(driver.get_cookies()))\n",
    "                pickle.dump(driver.get_cookies(), file)\n",
    "        except:\n",
    "            print(\"Either increase timeout or Something went wrong !\")\n",
    "\n",
    "    finally:\n",
    "        time.sleep(3)\n"
   ]
  },
  {
   "cell_type": "markdown",
   "metadata": {},
   "source": [
    "##### Search for a keyword and sort the posts by latest"
   ]
  },
  {
   "cell_type": "code",
   "execution_count": 5,
   "metadata": {},
   "outputs": [],
   "source": [
    "# Search for a keyword and apply sorting\n",
    "def search_and_sort(keyword):\n",
    "    driver.get(\"https://www.linkedin.com/feed/\")\n",
    "    search_box = driver.find_element(By.XPATH, \"//input[@placeholder='Search']\")\n",
    "    search_box.send_keys(keyword)\n",
    "    search_box.send_keys(Keys.RETURN)\n",
    "    time.sleep(3)\n",
    "    \n",
    "    # Apply sorting by 'Latest'\n",
    "    try:\n",
    "        driver.find_element(By.XPATH, \"//div[@id='search-reusables__filters-bar']/div[1]/div[1]/button[1]\").click()\n",
    "        time.sleep(2)\n",
    "        driver.find_element(By.XPATH, \"//label[@for='advanced-filter-sortBy-date_posted']\").click()\n",
    "        time.sleep(2)\n",
    "        driver.find_element(By.XPATH, \"//div[@id='artdeco-modal-outlet']/div[1]/div[1]/div[3]/div[1]/button[2]\").click()\n",
    "    except NoSuchElementException:\n",
    "        print(\"Sort by 'Latest' option not found.\")\n",
    "\n",
    "    except:\n",
    "        print(\"Filter element could not be found!\")\n",
    "\n",
    "    time.sleep(3)"
   ]
  },
  {
   "cell_type": "markdown",
   "metadata": {},
   "source": [
    "##### Analysing the post \n",
    "\n",
    "- Writing the `prompt` for `OpenAI GPT`\n",
    "- give the post text and categories for labeling the post\n",
    "- returns the label and probability of assigning it"
   ]
  },
  {
   "cell_type": "code",
   "execution_count": null,
   "metadata": {},
   "outputs": [],
   "source": [
    "# Analyse post using openAI GPT\n",
    "def analyze_post(message):\n",
    "    post_categories = ['Harassment', 'Fraud or Scam', 'Spam', 'Misinformation', 'Hateful speech', 'Threats or violence', 'Self-harm', 'Graphic content', 'Dangerous or extremist organizations', 'Sexual content', 'Fake account', 'Child exploitation', 'Illegal goods and services', 'Infringement']\n",
    "\n",
    "    prompt = f\"\"\"\n",
    "    Classify the following LinkedIn POST content message as NONE or any of the categories mentioned. Also return the probability of its being categorised.\n",
    "    Message: \"\"{message}\"\".\n",
    "    categories: {post_categories}\n",
    "    The output should only contain two lines: first should contain NONE or the categorized text, and the next line should contain probability with up to three decimal points.\n",
    "    \"\"\"\n",
    "\n",
    "    response = client.chat.completions.create(\n",
    "        model=\"gpt-3.5-turbo\",\n",
    "        messages=[\n",
    "            {\n",
    "                \"role\": \"user\",\n",
    "                \"content\": prompt\n",
    "            }\n",
    "        ],\n",
    "        temperature=0.0,\n",
    "    )\n",
    "    result = response.choices[-1].message.content\n",
    "    categories = re.split(r'[\\n]', result)\n",
    "    return categories[0], categories[-1]"
   ]
  },
  {
   "cell_type": "markdown",
   "metadata": {},
   "source": [
    "##### Report the Post\n",
    "\n",
    "- Takes Post and Category Label as input\n",
    "- Reports the post and mark appropriate label for flagging the post"
   ]
  },
  {
   "cell_type": "code",
   "execution_count": 7,
   "metadata": {},
   "outputs": [],
   "source": [
    "def report_this_post(post, category):\n",
    "    try:\n",
    "        post.find_element(By.XPATH, \".//button[contains(@aria-label,'Open control menu')]\").click()\n",
    "        time.sleep(1)\n",
    "        post.find_element(By.XPATH, \".//div[@class='artdeco-dropdown__content-inner']/ul/li/div[1]/div[2]/h5[text()='Report post']\").click()\n",
    "        time.sleep(2)\n",
    "        reporting_content = driver.find_element(By.XPATH, \"//div[contains(@class,'trust-reporting-flow-modal__content')]\")\n",
    "        if (category in reporting_content.get_attribute(\"innerText\")):\n",
    "            print(\"CATEGORY EXISTS !!\")\n",
    "            reporting_content.find_element(By.XPATH, f\".//button[text()='{category}']\").click()\n",
    "            time.sleep(1)\n",
    "            driver.find_element(By.XPATH, \"//button[@data-test-trust-button-action-component-button='NEXT_STEP']\").click()\n",
    "            time.sleep(1)\n",
    "            driver.find_element(By.XPATH, \"//button[@data-test-trust-button-action-component-button='SUBMIT']\").click()\n",
    "            print(f\"POST Reported for {category}\")\n",
    "            time.sleep(2)\n",
    "    except Exception as e:\n",
    "        print (\"Error in reporting post\", e)\n",
    "        "
   ]
  },
  {
   "cell_type": "markdown",
   "metadata": {},
   "source": [
    "##### Read and Verify the posts\n",
    "\n",
    "- Read the post upto the `limit` configured in the `config` file\n",
    "- analyse it and report it by calling respective functions"
   ]
  },
  {
   "cell_type": "code",
   "execution_count": null,
   "metadata": {},
   "outputs": [],
   "source": [
    "def verify_posts():\n",
    "    try:\n",
    "        post_count = 0\n",
    "        post_container_ids = []\n",
    "\n",
    "        while (post_count < POST_LIMIT):\n",
    "            divs = driver.find_elements(By.XPATH, \"//div[@class='scaffold-finite-scroll__content']/div\")\n",
    "            last_post = None\n",
    "            for div in divs:\n",
    "                # Identifying the post container uniquely by it's ID\n",
    "                div_id = div.get_attribute(\"id\")\n",
    "                time.sleep(2)\n",
    "                if ((div_id is not None) and (div_id not in post_container_ids)):\n",
    "                    post_container_ids.append(div_id)\n",
    "                    posts = div.find_elements(By.XPATH, \".//ul[contains(@class,'reusable-search__entity-result-list')]/li\")\n",
    "                    for post in posts:\n",
    "                        if (\"Feed post\" in post.text):\n",
    "                            category, probability = analyze_post(post.text)\n",
    "                            print (category, probability)\n",
    "                            if ((category != \"NONE\") and (probability > 0.95)):\n",
    "                                try:\n",
    "                                    print(\"Potential violation found. Reporting post...\")\n",
    "                                    # Reporting the post\n",
    "                                    report_this_post(post, category)\n",
    "                                except:\n",
    "                                    # Click on body to close the pop up / modal if any opened\n",
    "                                    time.sleep(2)\n",
    "                                    driver.find_element(By.XPATH, \"//body\").click()\n",
    "                                    time.sleep(2)\n",
    "                                    continue\n",
    "                            post_count += 1\n",
    "                            last_post = post\n",
    "                # print (\"\\n post_count\", post_count, \"\\n post_container_ids \", post_container_ids)\n",
    "            if (post_count < POST_LIMIT and (last_post is not None)):\n",
    "                # scroll\n",
    "                scroll_height = last_post.get_attribute(\"scrollHeight\")\n",
    "                # driver.execute_script(f\"window.scrollTo(0, ${scroll_height});\")\n",
    "                driver.execute_script(f\"window.scrollTo(0, document.body.scrollHeight);\")\n",
    "                print (\"scrolled !!\", scroll_height)\n",
    "                time.sleep(3)\n",
    "\n",
    "    except Exception as e:\n",
    "        print(\"post verification failed !!\")\n",
    "        print(e)"
   ]
  },
  {
   "cell_type": "markdown",
   "metadata": {},
   "source": [
    "##### Configuring the chrome driver"
   ]
  },
  {
   "cell_type": "code",
   "execution_count": 9,
   "metadata": {},
   "outputs": [],
   "source": [
    "# Configure Webdriver\n",
    "options = Options()\n",
    "options.add_argument(\"--start-maximized\")\n",
    "driver = webdriver.Chrome(service=Service(ChromeDriverManager().install()), options=options)"
   ]
  },
  {
   "cell_type": "markdown",
   "metadata": {},
   "source": [
    "##### Login "
   ]
  },
  {
   "cell_type": "code",
   "execution_count": 10,
   "metadata": {},
   "outputs": [],
   "source": [
    "login_linkedIn()\n",
    "time.sleep(5)"
   ]
  },
  {
   "cell_type": "markdown",
   "metadata": {},
   "source": [
    "##### Key word to search for"
   ]
  },
  {
   "cell_type": "code",
   "execution_count": null,
   "metadata": {},
   "outputs": [],
   "source": [
    "keywordToSearch = \"Healh Care\"\n",
    "search_and_sort(keyword=keywordToSearch)\n",
    "time.sleep(5)"
   ]
  },
  {
   "cell_type": "markdown",
   "metadata": {},
   "source": [
    "##### Reading and Verification of post"
   ]
  },
  {
   "cell_type": "code",
   "execution_count": null,
   "metadata": {},
   "outputs": [],
   "source": [
    "verify_posts()\n",
    "time.sleep(5)"
   ]
  },
  {
   "cell_type": "markdown",
   "metadata": {},
   "source": [
    "##### Quit and close the browser"
   ]
  },
  {
   "cell_type": "code",
   "execution_count": 23,
   "metadata": {},
   "outputs": [],
   "source": [
    "driver.quit()"
   ]
  },
  {
   "cell_type": "markdown",
   "metadata": {},
   "source": [
    "##### Testing"
   ]
  },
  {
   "cell_type": "code",
   "execution_count": null,
   "metadata": {},
   "outputs": [],
   "source": [
    "# Test the GPT response\n",
    "analyze_post(\"This is a Hateful Speech message from linkedin post\")"
   ]
  }
 ],
 "metadata": {
  "kernelspec": {
   "display_name": ".venv",
   "language": "python",
   "name": "python3"
  },
  "language_info": {
   "codemirror_mode": {
    "name": "ipython",
    "version": 3
   },
   "file_extension": ".py",
   "mimetype": "text/x-python",
   "name": "python",
   "nbconvert_exporter": "python",
   "pygments_lexer": "ipython3",
   "version": "3.13.0"
  }
 },
 "nbformat": 4,
 "nbformat_minor": 2
}
